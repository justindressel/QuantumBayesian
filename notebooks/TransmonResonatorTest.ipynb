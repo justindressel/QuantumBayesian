{
 "cells": [
  {
   "cell_type": "code",
   "execution_count": 39,
   "metadata": {},
   "outputs": [],
   "source": [
    "using QuantumBayesian\n",
    "using PyPlot\n",
    "using Pkg"
   ]
  },
  {
   "cell_type": "markdown",
   "metadata": {},
   "source": [
    "# Transmon Qubit and Resonator Test\n",
    "\n",
    "**Justin Dressel**, 12/8/2016 <br />\n",
    "*Institute for Quantum Studies, Chapman University*\n",
    "\n",
    "To benchmark performance for large qubit systems, we test the deterministic evolution of a transmon and resonator system subject to intrinsic (Markovian) resonator decay."
   ]
  },
  {
   "cell_type": "markdown",
   "metadata": {},
   "source": [
    "## Transmon and Qubit Definitions"
   ]
  },
  {
   "cell_type": "markdown",
   "metadata": {},
   "source": [
    "Define a joint system of a transmon (with 5 energy levels) and a resonator (with 30 energy levels)."
   ]
  },
  {
   "cell_type": "code",
   "execution_count": 11,
   "metadata": {},
   "outputs": [
    {
     "data": {
      "text/plain": [
       "QSpace: Transmon ⊗ Resonator\n",
       "Dims  : (5, 30)\n",
       "Ops   : ''\n"
      ]
     },
     "execution_count": 11,
     "metadata": {},
     "output_type": "execute_result"
    }
   ],
   "source": [
    "q = osc(5, \"Transmon\");\n",
    "r = osc(30, \"Resonator\");\n",
    "s = q ⊗ r"
   ]
  },
  {
   "cell_type": "markdown",
   "metadata": {},
   "source": [
    "For convenience, define a qubit matrix element `qel(i,j)`$ = \\lvert i\\rangle\\langle j\\rvert \\otimes \\mathbb{1}$:"
   ]
  },
  {
   "cell_type": "code",
   "execution_count": 12,
   "metadata": {},
   "outputs": [],
   "source": [
    "qel(i,j) = lift(s, q(i,j), 1);"
   ]
  },
  {
   "cell_type": "markdown",
   "metadata": {},
   "source": [
    "Define the lowering operator for the resonator using standard notation, as well as the number operator."
   ]
  },
  {
   "cell_type": "code",
   "execution_count": 13,
   "metadata": {},
   "outputs": [],
   "source": [
    "a = s(\"id\");\n",
    "n = a' * a;"
   ]
  },
  {
   "cell_type": "markdown",
   "metadata": {},
   "source": [
    "Define relevant constants typical of superconducting qubit experiments performed at UCSB [modeled after \"Qubit 1\" in Nature **519**, 66-69 (2015)]. The qubit frequency is defined by the different of the first two energy levels of the transmon: $\\omega_q = (E_1 - E_0)/\\hbar$. The anharmonicity is defined as the discrepancy in energy of the next pair: $\\eta = \\omega_q - (E_2 - E_1)/\\hbar$.  The approximate dispersive shift $\\chi$ and Lamb shift $\\lambda$ are computed in the Appendix of Physical Review A **92**, 012325 (2015):\n",
    "$$ \\begin{aligned}\n",
    "\\chi &= -\\frac{\\eta\\,g^2}{(\\omega_q - \\omega_r)^2} \\\\\n",
    "\\lambda &= -\\frac{g^2}{\\omega_q-\\omega_r}\n",
    "\\end{aligned} $$\n",
    "\n",
    "The needed drive amplitude is computed from the steady-state photon number $\\bar{n} = |\\alpha_{\\rm ss}|^2$, derived from the classical resonator equation: $$\\dot{\\alpha_{\\rm ss}} = -i(\\omega_r + \\lambda + \\chi - \\omega_d)\\,\\alpha_{\\rm ss} - (\\kappa/2)\\,\\alpha_{\\rm ss} - i \\varepsilon \\equiv 0$$."
   ]
  },
  {
   "cell_type": "code",
   "execution_count": 14,
   "metadata": {},
   "outputs": [],
   "source": [
    "# Bare parameters\n",
    "ωq = (2π)*5.93             # qubit frequency (GHz): energy gap between |0⟩ and |1⟩ levels\n",
    "ωr = (2π)*6.626            # resonator frequency (GHz), detuned from the qubit frequency in dispersive regime\n",
    "η  = (2π)*0.216            # qubit anharmonicity  (GHz)\n",
    "g  = (2π)*0.128            # qubit-resonator coupling strength (GHz)\n",
    "ωd = ωr                    # microwave drive frequency\n",
    "κ  = (2π)/69               # resonator decay rate\n",
    "\n",
    "# Compute effective frequency shifts\n",
    "χ  = -η*g^2 / (ωq - ωr)^2  # resonator dispersive frequency shift: 2χ is net change in ωq\n",
    "λ  = -g^2 / (ωq - ωr)      # Lamb shift of resonator frequency\n",
    "ωreff = ωr + λ + χ         # effective (ground-state) resonator frequency including Lamb and dispersive shift\n",
    "\n",
    "# Set pump strength\n",
    "nmax = 4                   # target photon number at steady state\n",
    "ɛ  = sqrt(nmax*((ωreff-ωd)^2 + (κ/2)^2))  # microwave drive amplitude;"
   ]
  },
  {
   "cell_type": "markdown",
   "metadata": {},
   "source": [
    "Note that we working in the rotating frequency of the pump, which is set to the bare frequency of the resonator. However, the qubit-induced Lamb shift and dispersive shift of the resonator frequency will cause residual oscillations with the following period:"
   ]
  },
  {
   "cell_type": "code",
   "execution_count": 15,
   "metadata": {},
   "outputs": [
    {
     "data": {
      "text/plain": [
       "61.5966796874981"
      ]
     },
     "execution_count": 15,
     "metadata": {},
     "output_type": "execute_result"
    }
   ],
   "source": [
    "# Effective residual resonator rotation period, expected (ns)\n",
    "(2π)/(ωreff - ωd)"
   ]
  },
  {
   "cell_type": "markdown",
   "metadata": {},
   "source": [
    "The so-called \"critical photon number\" is the scale at which nonlinear effects should become relevant for the qubit-resonator evolution (i.e., when the qubit and resonator should hybridize appreciably)."
   ]
  },
  {
   "cell_type": "code",
   "execution_count": 16,
   "metadata": {},
   "outputs": [
    {
     "data": {
      "text/plain": [
       "7.740450809750334"
      ]
     },
     "execution_count": 16,
     "metadata": {},
     "output_type": "execute_result"
    }
   ],
   "source": [
    "ncrit = (ωq - ωreff)^2 / (4g^2)   # photon number threshold before nonlinear effects should appear"
   ]
  },
  {
   "cell_type": "markdown",
   "metadata": {},
   "source": [
    "Define the Hamiltonian for coherent evolution:\n",
    "$$ \\begin{aligned}\n",
    "H_q &= \\sum_{k=0}^{d-1} \\left[k(\\omega_q - \\omega_d) - k(k-1)\\eta /2\\right]\\, \\lvert k \\rangle \\langle k\\rvert \\\\\n",
    "H_r &= (\\omega_r - \\omega_d)\\,a^\\dagger a \\\\\n",
    "H_p &= \\varepsilon(a + a^\\dagger) \\\\\n",
    "H_i &= g\\sum_{k=1}^{d-1}\\sqrt{k}\\left[a\\,\\lvert k \\rangle \\langle k-1\\rvert + a^\\dagger\\,\\lvert k-1 \\rangle \\langle k\\rvert \\right] \\\\\n",
    "H_{\\rm tot} &= H_q + H_r + H_p + H_i\n",
    "\\end{aligned}$$\n",
    "\n",
    "Also define the dissipative collapse operator for the resonator decay:\n",
    "$$ L_r = \\sqrt{\\frac{\\kappa}{2}}\\,a$$"
   ]
  },
  {
   "cell_type": "code",
   "execution_count": 17,
   "metadata": {},
   "outputs": [],
   "source": [
    "# Hamiltonian\n",
    "#  Qubit free evolution\n",
    "Hq = sum((k*(ωq - ωd) - k*(k+1)*η/2).*qel(k,k) for k in 0:(length(q)-1))\n",
    "#  Resonator free evolution\n",
    "Hr = (ωr - ωd).* n\n",
    "#  Microwave pump\n",
    "Hp = ɛ .* (a .+ a')\n",
    "#  Qubit-resonator interaction (Jaynes-Cummings-type interaction)\n",
    "Hint = sum((sqrt(k)*g).*(a * qel(k,k-1) + a' * qel(k-1,k)) for k in 1:(length(q)-1));\n",
    "#   Total Hamiltonian\n",
    "H = Hq + Hr + Hp + Hint;\n",
    "\n",
    "# Dissipative collapse operator (Lindblad Markovian decay)\n",
    "Lr = sqrt(κ/2).*a;"
   ]
  },
  {
   "cell_type": "markdown",
   "metadata": {},
   "source": [
    "Illustrate the banded structure of the Jaynes-Cummings coupling in the total Hamiltonian."
   ]
  },
  {
   "cell_type": "code",
   "execution_count": 19,
   "metadata": {
    "scrolled": false
   },
   "outputs": [
    {
     "ename": "LoadError",
     "evalue": "MethodError: no method matching strides(::SparseArrays.SparseMatrixCSC{Float64,Int64})\nClosest candidates are:\n  strides(!Matched::SubArray) at subarray.jl:251\n  strides(!Matched::Base.CodeUnits) at strings/basic.jl:696\n  strides(!Matched::PermutedDimsArray{T,N,perm,iperm,AA} where AA<:AbstractArray where iperm) where {T, N, perm} at permuteddimsarray.jl:62\n  ...",
     "output_type": "error",
     "traceback": [
      "MethodError: no method matching strides(::SparseArrays.SparseMatrixCSC{Float64,Int64})\nClosest candidates are:\n  strides(!Matched::SubArray) at subarray.jl:251\n  strides(!Matched::Base.CodeUnits) at strings/basic.jl:696\n  strides(!Matched::PermutedDimsArray{T,N,perm,iperm,AA} where AA<:AbstractArray where iperm) where {T, N, perm} at permuteddimsarray.jl:62\n  ...",
      "",
      "Stacktrace:",
      " [1] stride(::SparseArrays.SparseMatrixCSC{Float64,Int64}, ::Int64) at ./abstractarray.jl:342",
      " [2] array2py(::SparseArrays.SparseMatrixCSC{Float64,Int64}, ::Int64, ::Int64) at /Users/joseraul/.julia/packages/PyCall/WcrLS/src/conversions.jl:305",
      " [3] array2py at /Users/joseraul/.julia/packages/PyCall/WcrLS/src/conversions.jl:325 [inlined]",
      " [4] Type at /Users/joseraul/.julia/packages/PyCall/WcrLS/src/conversions.jl:327 [inlined]",
      " [5] pysetarg!(::Ptr{PyCall.PyObject_struct}, ::SparseArrays.SparseMatrixCSC{Float64,Int64}, ::Int64) at /Users/joseraul/.julia/packages/PyCall/WcrLS/src/pyfncall.jl:86",
      " [6] pysetargs! at /Users/joseraul/.julia/packages/PyCall/WcrLS/src/pyfncall.jl:74 [inlined]",
      " [7] _pycall! at /Users/joseraul/.julia/packages/PyCall/WcrLS/src/pyfncall.jl:61 [inlined]",
      " [8] macro expansion at /Users/joseraul/.julia/packages/PyCall/WcrLS/src/exception.jl:84 [inlined]",
      " [9] _pycall!(::PyCall.PyObject, ::PyCall.PyObject, ::Tuple{SparseArrays.SparseMatrixCSC{Float64,Int64}}, ::Int64, ::Ptr{Nothing}) at /Users/joseraul/.julia/packages/PyCall/WcrLS/src/pyfncall.jl:28",
      " [10] #pycall#88 at /Users/joseraul/.julia/packages/PyCall/WcrLS/src/pyfncall.jl:16 [inlined]",
      " [11] pycall at /Users/joseraul/.julia/packages/PyCall/WcrLS/src/pyfncall.jl:144 [inlined]",
      " [12] #matshow#76(::Base.Iterators.Pairs{Union{},Union{},Tuple{},NamedTuple{(),Tuple{}}}, ::Function, ::SparseArrays.SparseMatrixCSC{Float64,Int64}) at /Users/joseraul/.julia/packages/PyPlot/jXCXB/src/PyPlot.jl:172",
      " [13] matshow(::SparseArrays.SparseMatrixCSC{Float64,Int64}) at /Users/joseraul/.julia/packages/PyPlot/jXCXB/src/PyPlot.jl:169",
      " [14] top-level scope at none:0"
     ]
    }
   ],
   "source": [
    "matshow(real(H), cmap:Blues)\n",
    "show()"
   ]
  },
  {
   "cell_type": "markdown",
   "metadata": {},
   "source": [
    "## Simulation and Plotting Code"
   ]
  },
  {
   "cell_type": "markdown",
   "metadata": {},
   "source": [
    "Hamiltonian evolution using a pure state (wavefunction) as a benchmark for efficiency. This solves the time-independent Schrodinger equation $i\\hbar \\partial_t |\\psi\\rangle = H |\\psi\\rangle$ by exact matrix exponentiation."
   ]
  },
  {
   "cell_type": "code",
   "execution_count": 20,
   "metadata": {},
   "outputs": [],
   "source": [
    "function solveψ(Δt=0.1)\n",
    "    meana(ψ) = expectvec(ψ, a)\n",
    "    pop(ψ) = real(expectvec(ψ, n))\n",
    "    p0(ψ) = real(expectvec(ψ, qel(0,0)))\n",
    "    p1(ψ) = real(expectvec(ψ, qel(1,1)))\n",
    "    p2(ψ) = real(expectvec(ψ, qel(2,2)))\n",
    "    t = trajectory(ham(Δt, H, ket=true), groundvec(s), (0.0, 200.0), meana, pop, p0, p1, p2, dt=Δt)\n",
    "end;"
   ]
  },
  {
   "cell_type": "markdown",
   "metadata": {},
   "source": [
    "Mixed state master equation evolution that includes decay. This solves the Lindblad master equation $\\partial_t \\rho = (1/i\\hbar)[H,\\,\\rho] + L_r \\rho L_r^\\dagger - \\{L_r^\\dagger L_r,\\, \\rho \\}/2$ using one of several methods. Method 1: by unraveling the evolution into independent jump and no-jump evolutions. Method 2: explicit 4th-order Runge-Kutta integration."
   ]
  },
  {
   "cell_type": "code",
   "execution_count": 21,
   "metadata": {},
   "outputs": [],
   "source": [
    "function solveρ(step, Δt=0.1)\n",
    "    meana(ρ) = expect(ρ, a)\n",
    "    pop(ρ) = real(expect(ρ, n))\n",
    "    p0(ρ) = real(expect(ρ, qel(0,0)))\n",
    "    p1(ρ) = real(expect(ρ, qel(1,1)))\n",
    "    p2(ρ) = real(expect(ρ, qel(2,2)))\n",
    "    t = trajectory(step(Δt, H, clist=[Lr]), ground(s), (0.0, 200.0), meana, pop, p0, p1, p2, dt=Δt)\n",
    "end;"
   ]
  },
  {
   "cell_type": "markdown",
   "metadata": {},
   "source": [
    "Super-operator method for exact matrix exponential of Lindblad evolution (requires considerably more memory). This solves the same Lindblad master equation as above in super-operator space by exact matrix exponentiation."
   ]
  },
  {
   "cell_type": "code",
   "execution_count": 22,
   "metadata": {},
   "outputs": [],
   "source": [
    "function solveρsuper(Δt=0.1)\n",
    "    meana(ρ) = expect(unsuperket(ρ), a)\n",
    "    pop(ρ) = real(expect(unsuperket(ρ), n))\n",
    "    p0(ρ) = real(expect(unsuperket(ρ), qel(0,0)))\n",
    "    p1(ρ) = real(expect(unsuperket(ρ), qel(1,1)))\n",
    "    p2(ρ) = real(expect(unsuperket(ρ), qel(2,2)))\n",
    "    t = trajectory(slind(Δt, H, clist=[Lr]), superket(ground(s)), (0.0, 200.0), meana, pop, p0, p1, p2, dt=Δt)\n",
    "end;"
   ]
  },
  {
   "cell_type": "markdown",
   "metadata": {},
   "source": [
    "Matplotlib code for plotting both the resonator dynamics and the qubit populations nicely."
   ]
  },
  {
   "cell_type": "code",
   "execution_count": 23,
   "metadata": {},
   "outputs": [],
   "source": [
    "function plotsolution(t)\n",
    "    as = t[1]\n",
    "    ns = t[2]\n",
    "    p0s = t[3]\n",
    "    p1s = t[4]\n",
    "    p2s = t[5]\n",
    "    \n",
    "    figure(1)\n",
    "    p1 = plot(real(as), imag(as), label=L\"$\\alpha(t)$\")\n",
    "    ax = gca()\n",
    "    ax[:set_ylim]([-2.1,2.1])\n",
    "    ax[:set_xlim]([-4.5,0.5])\n",
    "    xlabel(L\"Re$\\alpha$\")\n",
    "    ylabel(L\"Im$\\alpha$\")\n",
    "    title(\"Classical Resonator amplitude\")\n",
    "    legend()\n",
    "    grid()\n",
    "    show()\n",
    "    \n",
    "    figure(2)\n",
    "    p2 = plot(ns.t, ns)\n",
    "    xlabel(L\"$t$ (ns)\")\n",
    "    ylabel(L\"$n(t)$\")\n",
    "    title(\"Photon Number vs. Time\")\n",
    "    grid()\n",
    "    show()\n",
    "\n",
    "    figure(3)\n",
    "    ax = gca()\n",
    "    ax[:set_ylim]([0,1.05])\n",
    "    p2 = plot(p0s.t, p0s, label=L\"$P_0$\")\n",
    "    plot(p1s.t, p1s, label=L\"$P_1$\")\n",
    "    plot(p2s.t, p2s, label=L\"$P_2$\")\n",
    "    plot(p0s.t, p0s.+p1s.+p2s, label=L\"$P_{\\rm tot}$\")\n",
    "    xlabel(L\"$t$ (ns)\")\n",
    "    ylabel(\"Probability\")\n",
    "    title(\"Qubit Populations vs. Time\")\n",
    "    grid()\n",
    "    legend()\n",
    "    show()\n",
    "end;"
   ]
  },
  {
   "cell_type": "markdown",
   "metadata": {},
   "source": [
    "## Simulation Results"
   ]
  },
  {
   "cell_type": "markdown",
   "metadata": {},
   "source": [
    "### Benchmark Hamiltonian pure state evolution"
   ]
  },
  {
   "cell_type": "code",
   "execution_count": 24,
   "metadata": {},
   "outputs": [
    {
     "ename": "LoadError",
     "evalue": "Incorrect indexing.",
     "output_type": "error",
     "traceback": [
      "Incorrect indexing.",
      "",
      "Stacktrace:",
      " [1] error(::String) at ./error.jl:33",
      " [2] getindex at /Users/joseraul/.julia/dev/QuantumBayesian/src/Quantum.jl:331 [inlined]",
      " [3] groundvec(::QSpace) at /Users/joseraul/.julia/dev/QuantumBayesian/src/Quantum.jl:348",
      " [4] solveψ(::Float64) at ./In[20]:7",
      " [5] solveψ() at ./In[20]:2",
      " [6] top-level scope at util.jl:156"
     ]
    }
   ],
   "source": [
    "@time t = solveψ()\n",
    "plotsolution(t);"
   ]
  },
  {
   "cell_type": "markdown",
   "metadata": {},
   "source": [
    "### Jump/no-jump Lindblad decay evolution"
   ]
  },
  {
   "cell_type": "code",
   "execution_count": 25,
   "metadata": {
    "scrolled": false
   },
   "outputs": [
    {
     "ename": "LoadError",
     "evalue": "DimensionMismatch(\"matrix A has dimensions (150,1), matrix B has dimensions (150,150)\")",
     "output_type": "error",
     "traceback": [
      "DimensionMismatch(\"matrix A has dimensions (150,1), matrix B has dimensions (150,150)\")",
      "",
      "Stacktrace:",
      " [1] _generic_matmatmul!(::SparseArrays.SparseMatrixCSC{Complex{Float64},Int64}, ::Char, ::Char, ::Base.ReshapedArray{Complex{Float64},2,SparseArrays.SparseVector{Complex{Float64},Int64},Tuple{}}, ::SparseArrays.SparseMatrixCSC{Complex{Float64},Int64}) at /Users/osx/buildbot/slave/package_osx64/build/usr/share/julia/stdlib/v1.0/LinearAlgebra/src/matmul.jl:588",
      " [2] generic_matmatmul! at /Users/osx/buildbot/slave/package_osx64/build/usr/share/julia/stdlib/v1.0/LinearAlgebra/src/matmul.jl:578 [inlined]",
      " [3] mul! at /Users/osx/buildbot/slave/package_osx64/build/usr/share/julia/stdlib/v1.0/LinearAlgebra/src/matmul.jl:172 [inlined]",
      " [4] *(::Base.ReshapedArray{Complex{Float64},2,SparseArrays.SparseVector{Complex{Float64},Int64},Tuple{}}, ::SparseArrays.SparseMatrixCSC{Complex{Float64},Int64}) at /Users/osx/buildbot/slave/package_osx64/build/usr/share/julia/stdlib/v1.0/LinearAlgebra/src/matmul.jl:141",
      " [5] * at /Users/osx/buildbot/slave/package_osx64/build/usr/share/julia/stdlib/v1.0/LinearAlgebra/src/matmul.jl:62 [inlined]",
      " [6] expect(::SparseArrays.SparseVector{Complex{Float64},Int64}, ::SparseArrays.SparseMatrixCSC{Complex{Float64},Int64}) at /Users/joseraul/.julia/dev/QuantumBayesian/src/QuantumOperations.jl:116",
      " [7] (::getfield(Main, Symbol(\"#meana#16\")))(::SparseArrays.SparseVector{Complex{Float64},Int64}) at ./In[21]:2",
      " [8] (::getfield(QuantumBayesian, Symbol(\"##135#137\")){SparseArrays.SparseVector{Complex{Float64},Int64}})(::getfield(Main, Symbol(\"#meana#16\"))) at ./none:0",
      " [9] iterate at ./generator.jl:47 [inlined]",
      " [10] collect(::Base.Generator{Tuple{getfield(Main, Symbol(\"#meana#16\")),getfield(Main, Symbol(\"#pop#17\")),getfield(Main, Symbol(\"#p0#18\")),getfield(Main, Symbol(\"#p1#19\")),getfield(Main, Symbol(\"#p2#20\"))},getfield(QuantumBayesian, Symbol(\"##135#137\")){SparseArrays.SparseVector{Complex{Float64},Int64}}}) at ./array.jl:619",
      " [11] #simulate#134(::Float64, ::Int64, ::Bool, ::Bool, ::Function, ::getfield(QuantumBayesian, Symbol(\"##77#78\")){Array{SparseArrays.SparseMatrixCSC{Complex{Float64},Int64},1},Array{Function,1},Float64,getfield(QuantumBayesian, Symbol(\"##32#34\")){SparseArrays.SparseMatrixCSC{Complex{Float64},Int64},LinearAlgebra.Adjoint{Complex{Float64},SparseArrays.SparseMatrixCSC{Complex{Float64},Int64}}}}, ::SparseArrays.SparseVector{Complex{Float64},Int64}, ::Tuple{Float64,Float64}, ::getfield(Main, Symbol(\"#meana#16\")), ::Vararg{Function,N} where N) at /Users/joseraul/.julia/dev/QuantumBayesian/src/QuantumEvolution.jl:517",
      " [12] (::getfield(QuantumBayesian, Symbol(\"#kw##simulate\")))(::NamedTuple{(:dt, :points, :verbose, :readout),Tuple{Float64,Int64,Bool,Bool}}, ::typeof(QuantumBayesian.simulate), ::Function, ::SparseArrays.SparseVector{Complex{Float64},Int64}, ::Tuple{Float64,Float64}, ::Function, ::Vararg{Function,N} where N) at ./none:0",
      " [13] #trajectory#126(::Float64, ::Int64, ::Bool, ::Bool, ::Function, ::Function, ::SparseArrays.SparseVector{Complex{Float64},Int64}, ::Tuple{Float64,Float64}, ::getfield(Main, Symbol(\"#meana#16\")), ::Vararg{Function,N} where N) at /Users/joseraul/.julia/dev/QuantumBayesian/src/QuantumEvolution.jl:443",
      " [14] (::getfield(QuantumBayesian, Symbol(\"#kw##trajectory\")))(::NamedTuple{(:dt,),Tuple{Float64}}, ::typeof(trajectory), ::Function, ::SparseArrays.SparseVector{Complex{Float64},Int64}, ::Tuple{Float64,Float64}, ::Function, ::Vararg{Function,N} where N) at ./none:0",
      " [15] solveρ(::Function, ::Float64) at ./In[21]:7",
      " [16] solveρ(::Function) at ./In[21]:2",
      " [17] top-level scope at util.jl:156"
     ]
    }
   ],
   "source": [
    "@time t = solveρ(lind)\n",
    "plotsolution(t);"
   ]
  },
  {
   "cell_type": "markdown",
   "metadata": {},
   "source": [
    "### Explicit 4th-order Runge-Kutta integration"
   ]
  },
  {
   "cell_type": "code",
   "execution_count": 26,
   "metadata": {
    "scrolled": false
   },
   "outputs": [
    {
     "ename": "LoadError",
     "evalue": "DimensionMismatch(\"matrix A has dimensions (150,1), matrix B has dimensions (150,150)\")",
     "output_type": "error",
     "traceback": [
      "DimensionMismatch(\"matrix A has dimensions (150,1), matrix B has dimensions (150,150)\")",
      "",
      "Stacktrace:",
      " [1] _generic_matmatmul!(::SparseArrays.SparseMatrixCSC{Complex{Float64},Int64}, ::Char, ::Char, ::Base.ReshapedArray{Complex{Float64},2,SparseArrays.SparseVector{Complex{Float64},Int64},Tuple{}}, ::SparseArrays.SparseMatrixCSC{Complex{Float64},Int64}) at /Users/osx/buildbot/slave/package_osx64/build/usr/share/julia/stdlib/v1.0/LinearAlgebra/src/matmul.jl:588",
      " [2] generic_matmatmul! at /Users/osx/buildbot/slave/package_osx64/build/usr/share/julia/stdlib/v1.0/LinearAlgebra/src/matmul.jl:578 [inlined]",
      " [3] mul! at /Users/osx/buildbot/slave/package_osx64/build/usr/share/julia/stdlib/v1.0/LinearAlgebra/src/matmul.jl:172 [inlined]",
      " [4] *(::Base.ReshapedArray{Complex{Float64},2,SparseArrays.SparseVector{Complex{Float64},Int64},Tuple{}}, ::SparseArrays.SparseMatrixCSC{Complex{Float64},Int64}) at /Users/osx/buildbot/slave/package_osx64/build/usr/share/julia/stdlib/v1.0/LinearAlgebra/src/matmul.jl:141",
      " [5] * at /Users/osx/buildbot/slave/package_osx64/build/usr/share/julia/stdlib/v1.0/LinearAlgebra/src/matmul.jl:62 [inlined]",
      " [6] expect(::SparseArrays.SparseVector{Complex{Float64},Int64}, ::SparseArrays.SparseMatrixCSC{Complex{Float64},Int64}) at /Users/joseraul/.julia/dev/QuantumBayesian/src/QuantumOperations.jl:116",
      " [7] (::getfield(Main, Symbol(\"#meana#16\")))(::SparseArrays.SparseVector{Complex{Float64},Int64}) at ./In[21]:2",
      " [8] (::getfield(QuantumBayesian, Symbol(\"##135#137\")){SparseArrays.SparseVector{Complex{Float64},Int64}})(::getfield(Main, Symbol(\"#meana#16\"))) at ./none:0",
      " [9] iterate at ./generator.jl:47 [inlined]",
      " [10] collect(::Base.Generator{Tuple{getfield(Main, Symbol(\"#meana#16\")),getfield(Main, Symbol(\"#pop#17\")),getfield(Main, Symbol(\"#p0#18\")),getfield(Main, Symbol(\"#p1#19\")),getfield(Main, Symbol(\"#p2#20\"))},getfield(QuantumBayesian, Symbol(\"##135#137\")){SparseArrays.SparseVector{Complex{Float64},Int64}}}) at ./array.jl:619",
      " [11] #simulate#134(::Float64, ::Int64, ::Bool, ::Bool, ::Function, ::getfield(QuantumBayesian, Symbol(\"##90#94\")){Float64,getfield(QuantumBayesian, Symbol(\"#inc#91\")){Array{SparseArrays.SparseMatrixCSC{Complex{Float64},Int64},1},Array{Function,1},getfield(QuantumBayesian, Symbol(\"#h#96\")){SparseArrays.SparseMatrixCSC{Complex{Float64},Int64}}}}, ::SparseArrays.SparseVector{Complex{Float64},Int64}, ::Tuple{Float64,Float64}, ::getfield(Main, Symbol(\"#meana#16\")), ::Vararg{Function,N} where N) at /Users/joseraul/.julia/dev/QuantumBayesian/src/QuantumEvolution.jl:517",
      " [12] (::getfield(QuantumBayesian, Symbol(\"#kw##simulate\")))(::NamedTuple{(:dt, :points, :verbose, :readout),Tuple{Float64,Int64,Bool,Bool}}, ::typeof(QuantumBayesian.simulate), ::Function, ::SparseArrays.SparseVector{Complex{Float64},Int64}, ::Tuple{Float64,Float64}, ::Function, ::Vararg{Function,N} where N) at ./none:0",
      " [13] #trajectory#126(::Float64, ::Int64, ::Bool, ::Bool, ::Function, ::Function, ::SparseArrays.SparseVector{Complex{Float64},Int64}, ::Tuple{Float64,Float64}, ::getfield(Main, Symbol(\"#meana#16\")), ::Vararg{Function,N} where N) at /Users/joseraul/.julia/dev/QuantumBayesian/src/QuantumEvolution.jl:443",
      " [14] (::getfield(QuantumBayesian, Symbol(\"#kw##trajectory\")))(::NamedTuple{(:dt,),Tuple{Float64}}, ::typeof(trajectory), ::Function, ::SparseArrays.SparseVector{Complex{Float64},Int64}, ::Tuple{Float64,Float64}, ::Function, ::Vararg{Function,N} where N) at ./none:0",
      " [15] solveρ(::Function, ::Float64) at ./In[21]:7",
      " [16] solveρ(::Function) at ./In[21]:2",
      " [17] top-level scope at util.jl:156"
     ]
    }
   ],
   "source": [
    "@time t = solveρ(lind_rk4)\n",
    "plotsolution(t);"
   ]
  },
  {
   "cell_type": "code",
   "execution_count": 27,
   "metadata": {},
   "outputs": [
    {
     "ename": "LoadError",
     "evalue": "DimensionMismatch(\"matrix A has dimensions (150,1), matrix B has dimensions (150,150)\")",
     "output_type": "error",
     "traceback": [
      "DimensionMismatch(\"matrix A has dimensions (150,1), matrix B has dimensions (150,150)\")",
      "",
      "Stacktrace:",
      " [1] _generic_matmatmul!(::SparseArrays.SparseMatrixCSC{Complex{Float64},Int64}, ::Char, ::Char, ::Base.ReshapedArray{Complex{Float64},2,SparseArrays.SparseVector{Complex{Float64},Int64},Tuple{}}, ::SparseArrays.SparseMatrixCSC{Complex{Float64},Int64}) at /Users/osx/buildbot/slave/package_osx64/build/usr/share/julia/stdlib/v1.0/LinearAlgebra/src/matmul.jl:588",
      " [2] generic_matmatmul! at /Users/osx/buildbot/slave/package_osx64/build/usr/share/julia/stdlib/v1.0/LinearAlgebra/src/matmul.jl:578 [inlined]",
      " [3] mul! at /Users/osx/buildbot/slave/package_osx64/build/usr/share/julia/stdlib/v1.0/LinearAlgebra/src/matmul.jl:172 [inlined]",
      " [4] *(::Base.ReshapedArray{Complex{Float64},2,SparseArrays.SparseVector{Complex{Float64},Int64},Tuple{}}, ::SparseArrays.SparseMatrixCSC{Complex{Float64},Int64}) at /Users/osx/buildbot/slave/package_osx64/build/usr/share/julia/stdlib/v1.0/LinearAlgebra/src/matmul.jl:141",
      " [5] * at /Users/osx/buildbot/slave/package_osx64/build/usr/share/julia/stdlib/v1.0/LinearAlgebra/src/matmul.jl:62 [inlined]",
      " [6] expect(::SparseArrays.SparseVector{Complex{Float64},Int64}, ::SparseArrays.SparseMatrixCSC{Complex{Float64},Int64}) at /Users/joseraul/.julia/dev/QuantumBayesian/src/QuantumOperations.jl:116",
      " [7] (::getfield(Main, Symbol(\"#meana#16\")))(::SparseArrays.SparseVector{Complex{Float64},Int64}) at ./In[21]:2",
      " [8] (::getfield(QuantumBayesian, Symbol(\"##135#137\")){SparseArrays.SparseVector{Complex{Float64},Int64}})(::getfield(Main, Symbol(\"#meana#16\"))) at ./none:0",
      " [9] iterate at ./generator.jl:47 [inlined]",
      " [10] collect(::Base.Generator{Tuple{getfield(Main, Symbol(\"#meana#16\")),getfield(Main, Symbol(\"#pop#17\")),getfield(Main, Symbol(\"#p0#18\")),getfield(Main, Symbol(\"#p1#19\")),getfield(Main, Symbol(\"#p2#20\"))},getfield(QuantumBayesian, Symbol(\"##135#137\")){SparseArrays.SparseVector{Complex{Float64},Int64}}}) at ./array.jl:619",
      " [11] #simulate#134(::Float64, ::Int64, ::Bool, ::Bool, ::Function, ::getfield(QuantumBayesian, Symbol(\"##90#94\")){Float64,getfield(QuantumBayesian, Symbol(\"#inc#91\")){Array{SparseArrays.SparseMatrixCSC{Complex{Float64},Int64},1},Array{Function,1},getfield(QuantumBayesian, Symbol(\"#h#96\")){SparseArrays.SparseMatrixCSC{Complex{Float64},Int64}}}}, ::SparseArrays.SparseVector{Complex{Float64},Int64}, ::Tuple{Float64,Float64}, ::getfield(Main, Symbol(\"#meana#16\")), ::Vararg{Function,N} where N) at /Users/joseraul/.julia/dev/QuantumBayesian/src/QuantumEvolution.jl:517",
      " [12] (::getfield(QuantumBayesian, Symbol(\"#kw##simulate\")))(::NamedTuple{(:dt, :points, :verbose, :readout),Tuple{Float64,Int64,Bool,Bool}}, ::typeof(QuantumBayesian.simulate), ::Function, ::SparseArrays.SparseVector{Complex{Float64},Int64}, ::Tuple{Float64,Float64}, ::Function, ::Vararg{Function,N} where N) at ./none:0",
      " [13] #trajectory#126(::Float64, ::Int64, ::Bool, ::Bool, ::Function, ::Function, ::SparseArrays.SparseVector{Complex{Float64},Int64}, ::Tuple{Float64,Float64}, ::getfield(Main, Symbol(\"#meana#16\")), ::Vararg{Function,N} where N) at /Users/joseraul/.julia/dev/QuantumBayesian/src/QuantumEvolution.jl:443",
      " [14] (::getfield(QuantumBayesian, Symbol(\"#kw##trajectory\")))(::NamedTuple{(:dt,),Tuple{Float64}}, ::typeof(trajectory), ::Function, ::SparseArrays.SparseVector{Complex{Float64},Int64}, ::Tuple{Float64,Float64}, ::Function, ::Vararg{Function,N} where N) at ./none:0",
      " [15] solveρ(::Function, ::Float64) at ./In[21]:7",
      " [16] top-level scope at util.jl:156"
     ]
    }
   ],
   "source": [
    "# Try a factor of 10 smaller time step\n",
    "@time t = solveρ(lind_rk4, 0.01)\n",
    "plotsolution(t);"
   ]
  },
  {
   "cell_type": "markdown",
   "metadata": {},
   "source": [
    "### Super-operator Lindblad method"
   ]
  },
  {
   "cell_type": "code",
   "execution_count": 28,
   "metadata": {},
   "outputs": [
    {
     "ename": "LoadError",
     "evalue": "InterruptException:",
     "output_type": "error",
     "traceback": [
      "InterruptException:",
      "",
      "Stacktrace:",
      " [1] copy at ./array.jl:299 [inlined]",
      " [2] exp at /Users/osx/buildbot/slave/package_osx64/build/usr/share/julia/stdlib/v1.0/LinearAlgebra/src/dense.jl:489 [inlined]",
      " [3] #slind#97(::Array{SparseArrays.SparseMatrixCSC{Complex{Float64},Int64},1}, ::Array{Function,1}, ::Function, ::Float64, ::SparseArrays.SparseMatrixCSC{Complex{Float64},Int64}) at /Users/joseraul/.julia/dev/QuantumBayesian/src/QuantumEvolution.jl:274",
      " [4] (::getfield(QuantumBayesian, Symbol(\"#kw##slind\")))(::NamedTuple{(:clist,),Tuple{Array{SparseArrays.SparseMatrixCSC{Complex{Float64},Int64},1}}}, ::typeof(slind), ::Float64, ::SparseArrays.SparseMatrixCSC{Complex{Float64},Int64}) at ./none:0",
      " [5] solveρsuper(::Float64) at ./In[22]:7",
      " [6] solveρsuper() at ./In[22]:2",
      " [7] top-level scope at util.jl:156"
     ]
    }
   ],
   "source": [
    "@time t = solveρsuper()\n",
    "plotsolution(t);"
   ]
  },
  {
   "cell_type": "markdown",
   "metadata": {},
   "source": [
    "## Conclusions\n",
    "\n",
    "The pure state evolution is several orders of magnitude faster, since the matrix exponential can still be performed in memory. (Note that the slight decay observed in the pure state case is due to numerical error being accumulated by the state space truncation at larger photon number, which can be fixed by further increasing the size of the state space. This was not done here since the focus was on the dissipative part of the evolution that keeps the photon number better-bounded.) \n",
    "\n",
    "The jump/no-jump method produces the correct solution to good precision, even with course time steps of $\\Delta t = 0.1$ns. The explicit Runge-Kutta requires substantially smaller time steps to even converge to the correct solution, and is already half as fast as the jump/no-jump method when using comparable time step size. Even decreasing the time steps by a factor of 10 was not sufficient to prevent eventual accumulation of catastrophic imprecision, making run-time untenable. The super-operator method would be considerably faster since it is an exact matrix exponential like the Hamiltonian case, but it fails in the case of large quantum dimensionality due to the excessive memory consumption required to compute that exponential. \n",
    "\n",
    "Therefore, given realistic CPU and memory constraints on a single machine, the jump/no-jump method is clearly superior for such large dimensional systems."
   ]
  },
  {
   "cell_type": "markdown",
   "metadata": {},
   "source": [
    "## Version information"
   ]
  },
  {
   "cell_type": "code",
   "execution_count": 33,
   "metadata": {},
   "outputs": [
    {
     "name": "stdout",
     "output_type": "stream",
     "text": [
      "Julia Version 1.0.0\n",
      "Commit 5d4eaca0c9 (2018-08-08 20:58 UTC)\n",
      "Platform Info:\n",
      "  OS: macOS (x86_64-apple-darwin14.5.0)\n",
      "  CPU: Intel(R) Core(TM) i7-4980HQ CPU @ 2.80GHz\n",
      "  WORD_SIZE: 64\n",
      "  LIBM: libopenlibm\n",
      "  LLVM: libLLVM-6.0.0 (ORCJIT, haswell)\n"
     ]
    }
   ],
   "source": [
    "versioninfo()"
   ]
  },
  {
   "cell_type": "code",
   "execution_count": 40,
   "metadata": {},
   "outputs": [
    {
     "data": {
      "text/plain": [
       "v\"0.3.0\""
      ]
     },
     "execution_count": 40,
     "metadata": {},
     "output_type": "execute_result"
    }
   ],
   "source": [
    "Pkg.installed()[\"QuantumBayesian\"]"
   ]
  },
  {
   "cell_type": "code",
   "execution_count": 41,
   "metadata": {},
   "outputs": [
    {
     "data": {
      "text/plain": [
       "v\"2.6.0\""
      ]
     },
     "execution_count": 41,
     "metadata": {},
     "output_type": "execute_result"
    }
   ],
   "source": [
    "Pkg.installed()[\"PyPlot\"]"
   ]
  },
  {
   "cell_type": "code",
   "execution_count": 42,
   "metadata": {},
   "outputs": [
    {
     "data": {
      "text/plain": [
       "v\"0.8.0\""
      ]
     },
     "execution_count": 42,
     "metadata": {},
     "output_type": "execute_result"
    }
   ],
   "source": [
    "Pkg.installed()[\"Interpolations\"]"
   ]
  },
  {
   "cell_type": "code",
   "execution_count": null,
   "metadata": {},
   "outputs": [],
   "source": []
  }
 ],
 "metadata": {
  "kernelspec": {
   "display_name": "Julia 1.0.0",
   "language": "julia",
   "name": "julia-1.0"
  },
  "language_info": {
   "file_extension": ".jl",
   "mimetype": "application/julia",
   "name": "julia",
   "version": "1.0.0"
  }
 },
 "nbformat": 4,
 "nbformat_minor": 1
}
